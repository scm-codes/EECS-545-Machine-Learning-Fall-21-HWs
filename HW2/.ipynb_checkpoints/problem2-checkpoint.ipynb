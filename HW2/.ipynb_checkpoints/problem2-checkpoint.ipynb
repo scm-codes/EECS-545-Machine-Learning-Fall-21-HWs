{
 "cells": [
  {
   "cell_type": "markdown",
   "id": "9df68d78",
   "metadata": {},
   "source": [
    "# HW2 Problem 2\n"
   ]
  },
  {
   "cell_type": "code",
   "execution_count": 1,
   "id": "8d376ed4",
   "metadata": {},
   "outputs": [],
   "source": [
    "# import relevant packages\n",
    "import numpy as np"
   ]
  },
  {
   "cell_type": "code",
   "execution_count": 2,
   "id": "b2d4e1ef",
   "metadata": {},
   "outputs": [],
   "source": [
    "# load train and test data\n",
    "train_x = np.load('hw2p2_data/hw2p2_train_x.npy')\n",
    "train_y = np.load('hw2p2_data/hw2p2_train_y.npy')\n",
    "test_x = np.load('hw2p2_data/hw2p2_test_x.npy')\n",
    "test_y = np.load('hw2p2_data/hw2p2_test_y.npy')"
   ]
  },
  {
   "cell_type": "code",
   "execution_count": 89,
   "id": "66f9eb99",
   "metadata": {},
   "outputs": [
    {
     "name": "stdout",
     "output_type": "stream",
     "text": [
      "n_train: 1192 \n",
      "n_test: 794 \n",
      "d: 1000\n",
      "\n"
     ]
    }
   ],
   "source": [
    "# dimensions\n",
    "n_train = train_x.shape[0] # No of train documents\n",
    "n_test = test_x.shape[0]   # No of test documents \n",
    "d = train_x.shape[1]       # dimension of feature vector\n",
    "\n",
    "print('n_train: {} \\nn_test: {} \\nd: {}\\n'.format(n_train, n_test, d))"
   ]
  },
  {
   "cell_type": "code",
   "execution_count": 90,
   "id": "2be87a05",
   "metadata": {},
   "outputs": [
    {
     "name": "stdout",
     "output_type": "stream",
     "text": [
      "log-prior \n",
      "class 0: -0.6965085282626502 \n",
      "class 1: -0.6897970936746632\n",
      "\n"
     ]
    }
   ],
   "source": [
    "### Problem 2c - computation of log(p_kj) and log(pi_k) (k = 0 or 1)\n",
    "\n",
    "## (i) esitmation of log(p_kj) \n",
    "# computing n_k and n_kj\n",
    "n_k = np.array([np.sum(train_x[train_y==k,:]) for k in range(2)])\n",
    "n_kj = np.array([np.sum(train_x[train_y==k,:],axis = 0) for k in range(2)])\n",
    "\n",
    "# computing p_kj \n",
    "alpha = 1 # Laplace smoothing constant \n",
    "p_kj = np.array([(n_kj[k,:] + alpha)/(n_k[k] + alpha*d) for k in range(2)])\n",
    "\n",
    "# log(p_kj)\n",
    "log_p_kj = np.log(p_kj)\n",
    "\n",
    "\n",
    "## (ii) estimation of log(pi_k)  \n",
    "pi_k = np.array([np.sum(train_y==k)/n_train for k in range(2)])\n",
    "log_pi_k = np.log(pi_k)\n",
    "\n",
    "print('log-prior \\nclass 0: {} \\nclass 1: {}\\n'.format(log_pi_k[0],log_pi_k[1]))"
   ]
  },
  {
   "cell_type": "code",
   "execution_count": 108,
   "id": "9745d656",
   "metadata": {},
   "outputs": [
    {
     "name": "stdout",
     "output_type": "stream",
     "text": [
      "error in classification: 12.594458438287154%\n",
      "\n"
     ]
    }
   ],
   "source": [
    "### problem 2d - predction of classes for test data\n",
    "\n",
    "predicted_y = np.zeros(n_test)   # predefine \n",
    "\n",
    "for i in range(n_test):\n",
    "    # computation of posterior for classes (k = 0,1) for each document (i = 0,1,2...)\n",
    "    eta = np.array([log_pi_k[k] + np.sum(test_x[i,:]*log_p_kj[k,:])  for k in range(2)])\n",
    "    \n",
    "    # assign class that maximizes posterior\n",
    "    predicted_y[i] = np.argmax(eta)\n",
    "    \n",
    "# error associated with this classification\n",
    "test_error = np.sum(test_y != predicted_y)/n_test*100\n",
    "\n",
    "print('error in classification: {}%\\n'.format(test_error))\n"
   ]
  },
  {
   "cell_type": "code",
   "execution_count": 110,
   "id": "d31046a1",
   "metadata": {},
   "outputs": [
    {
     "name": "stdout",
     "output_type": "stream",
     "text": [
      "1\n"
     ]
    }
   ],
   "source": [
    "### problem 2e - sanity check\n",
    "\n",
    "# select the maximum ouccuring class in training data\n",
    "dominant_class_train = np.argmax([np.sum(train_y==0), np.sum(train_y==1)])\n"
   ]
  },
  {
   "cell_type": "code",
   "execution_count": null,
   "id": "532c2bbe",
   "metadata": {},
   "outputs": [],
   "source": []
  }
 ],
 "metadata": {
  "kernelspec": {
   "display_name": "Python 3 (ipykernel)",
   "language": "python",
   "name": "python3"
  },
  "language_info": {
   "codemirror_mode": {
    "name": "ipython",
    "version": 3
   },
   "file_extension": ".py",
   "mimetype": "text/x-python",
   "name": "python",
   "nbconvert_exporter": "python",
   "pygments_lexer": "ipython3",
   "version": "3.9.6"
  }
 },
 "nbformat": 4,
 "nbformat_minor": 5
}
