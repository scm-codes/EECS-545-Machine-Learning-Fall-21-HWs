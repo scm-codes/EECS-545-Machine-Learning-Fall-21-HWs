{
 "cells": [
  {
   "cell_type": "markdown",
   "id": "92b8f530",
   "metadata": {},
   "source": [
    "# Problem 1"
   ]
  },
  {
   "cell_type": "code",
   "execution_count": 67,
   "id": "27c67cbb",
   "metadata": {},
   "outputs": [],
   "source": [
    "# EECS 545 FA21 HW5 - Kernel Logistic Regression\n",
    "import numpy as np\n",
    "from sklearn.metrics.pairwise import rbf_kernel, linear_kernel"
   ]
  },
  {
   "cell_type": "code",
   "execution_count": 68,
   "id": "21944bee",
   "metadata": {},
   "outputs": [],
   "source": [
    "# linear logistic regression \n",
    "def linear_logistic_regression(x_train, y_train, x_test, y_test, step_size, reg_strength, num_iters):\n",
    "    from sklearn.linear_model import LogisticRegression\n",
    "    # only use sklearn's LogisticRegression\n",
    "    clf = LogisticRegression(C=1/reg_strength)\n",
    "    clf.fit(x_train, y_train)\n",
    "    test_acc = clf.score(x_test, y_test)\n",
    "    return test_acc"
   ]
  },
  {
   "cell_type": "code",
   "execution_count": 69,
   "id": "0e364876",
   "metadata": {},
   "outputs": [],
   "source": [
    "# kernal logistic regression\n",
    "def kernel_logistic_regression(x_train, y_train, x_test, y_test, step_size, reg_strength, num_iters, kernel_parameter):\n",
    "    \"\"\"\n",
    "    x_train - (n_train, d)\n",
    "    y_train - (n_train,)\n",
    "    x_test - (n_test, d)\n",
    "    y_test - (n_test,)\n",
    "    step_size: gamma in problem description\n",
    "    reg_strength: lambda in problem description\n",
    "    num_iters: how many iterations of gradient descent to perform\n",
    "\n",
    "    Implement KLR with the Gaussian Kernel.\n",
    "    The only allowed sklearn usage is the rbf_kernel, which has already been imported.\n",
    "    \"\"\"\n",
    "    # TODO\n",
    "    ntrain = x_train.shape[0]\n",
    "    nfeatures = x_train.shape[1]\n",
    "    ntest = x_test.shape[0]\n",
    "    \n",
    "    # create kernel matrices\n",
    "    ker_train = rbf_kernel(x_train,x_train,gamma = kernel_parameter)\n",
    "    ker_test = rbf_kernel(x_train,x_test,gamma = kernel_parameter)\n",
    "    \n",
    "#     sanity check puroposes\n",
    "#     ker_train = linear_kernel(x_train,x_train)\n",
    "#     ker_test = linear_kernel(x_train,x_test)\n",
    "    \n",
    "    ### do gradient descent \n",
    "    # set initial parameter \n",
    "    alp = np.zeros(ntrain)\n",
    "    b = 1e-7\n",
    "    for i in range(num_iters):\n",
    "        update_mat = np.array([-y_train[j]/(1 + np.exp(y_train[j]*(np.dot(alp,ker_train[:,j]) + b))) for j in range(ntrain)])\n",
    "        b -= step_size*(1/ntrain*np.sum(update_mat))\n",
    "        alp -= step_size*(1/ntrain*update_mat + 2*reg_strength*alp)\n",
    "    \n",
    "    y_pred = np.ones(ntest)\n",
    "    # apply classifier on test set\n",
    "    eta = np.array([1/(1 + np.exp(-(np.dot(alp,ker_test[:,j]) + b))) for j in range(ntest)])\n",
    "    y_pred[eta < 1/2] = -1\n",
    "    test_acc = np.sum(y_pred == y_test)/ntest\n",
    "    return test_acc"
   ]
  },
  {
   "cell_type": "code",
   "execution_count": 71,
   "id": "8df4a1be",
   "metadata": {
    "scrolled": true
   },
   "outputs": [
    {
     "name": "stdout",
     "output_type": "stream",
     "text": [
      "Linear LR accuracy: 0.769\n",
      "Kernel LR accuracy: 0.796\n"
     ]
    }
   ],
   "source": [
    "x_train = np.load(\"x_train.npy\")    # shape (n_train, d)\n",
    "x_test = np.load(\"x_test.npy\")      # shape (n_test, d)\n",
    "\n",
    "y_train = np.load(\"y_train.npy\")    # shape (n_train,)\n",
    "y_test = np.load(\"y_test.npy\")        # shape (n_test,)\n",
    "\n",
    "linear_acc = linear_logistic_regression(x_train, y_train, x_test, y_test, 1.0, 0.001, 200)\n",
    "print(\"Linear LR accuracy:\", linear_acc)\n",
    "\n",
    "klr_acc = kernel_logistic_regression(x_train, y_train, x_test, y_test, 5.0, 0.001,200, 0.1)\n",
    "\n",
    "# sanity check\n",
    "# klr_acc = kernel_logistic_regression(x_train, y_train, x_test, y_test, 1.0, 0.001,200, 0.1)\n",
    "\n",
    "print(\"Kernel LR accuracy:\", klr_acc)"
   ]
  }
 ],
 "metadata": {
  "kernelspec": {
   "display_name": "Python 3 (ipykernel)",
   "language": "python",
   "name": "python3"
  },
  "language_info": {
   "codemirror_mode": {
    "name": "ipython",
    "version": 3
   },
   "file_extension": ".py",
   "mimetype": "text/x-python",
   "name": "python",
   "nbconvert_exporter": "python",
   "pygments_lexer": "ipython3",
   "version": "3.9.6"
  }
 },
 "nbformat": 4,
 "nbformat_minor": 5
}
